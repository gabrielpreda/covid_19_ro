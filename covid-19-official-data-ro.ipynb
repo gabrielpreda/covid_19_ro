{
 "cells": [
  {
   "cell_type": "markdown",
   "metadata": {},
   "source": [
    "### Packages"
   ]
  },
  {
   "cell_type": "code",
   "execution_count": 2,
   "metadata": {},
   "outputs": [],
   "source": [
    "import pandas as pd\n",
    "import os\n",
    "import requests\n",
    "import pandas as pd\n",
    "from bs4 import BeautifulSoup"
   ]
  },
  {
   "cell_type": "markdown",
   "metadata": {},
   "source": [
    "### Utility for extracting HTML Table \n",
    "\n",
    "This is adapted from [Parsing HTML Tables in Python with BeautifulSoup and pandas](https://srome.github.io/Parsing-HTML-Tables-in-Python-with-BeautifulSoup-and-pandas/)"
   ]
  },
  {
   "cell_type": "code",
   "execution_count": 3,
   "metadata": {},
   "outputs": [],
   "source": [
    "class HTMLPageParser:\n",
    "\n",
    "    soup = None\n",
    "\n",
    "    def parse_url(self, url):\n",
    "        paragraphs = []\n",
    "        tables = []\n",
    "        response = requests.get(url)\n",
    "        soup = BeautifulSoup(response.text, 'html')\n",
    "        # parse paragraphs\n",
    "        _paragraphs = soup.find_all('p')\n",
    "        for p in _paragraphs:\n",
    "            paragraphs.append(p.text)\n",
    "        # parse tables\n",
    "        _tables = soup.find_all('table')\n",
    "        for t in _tables:\n",
    "            table = self.parse_html_table(t)\n",
    "            tables.append(table)\n",
    "            \n",
    "        return paragraphs, tables\n",
    "\n",
    "    def parse_html_table(self, table):\n",
    "        #print(\"new table\")\n",
    "        n_columns = 0\n",
    "        n_rows=0\n",
    "        column_names = []\n",
    "\n",
    "        # Find number of rows and columns\n",
    "        # we also find the column titles if we can\n",
    "        for row in table.find_all('tr'):\n",
    "\n",
    "            # Determine the number of rows in the table\n",
    "            td_tags = row.find_all('td')\n",
    "            if len(td_tags) > 0:\n",
    "                n_rows+=1\n",
    "                if n_columns == 0:\n",
    "                    # Set the number of columns for our table\n",
    "                    n_columns = len(td_tags)\n",
    "\n",
    "            # Handle column names if we find them\n",
    "            th_tags = row.find_all('th') \n",
    "            if len(th_tags) > 0 and len(column_names) == 0:\n",
    "                for th in th_tags:\n",
    "                    column_names.append(th.get_text())\n",
    "\n",
    "        df = pd.DataFrame() \n",
    "        try:                    \n",
    "            # Safeguard on Column Titles\n",
    "            if len(column_names) > 0 and len(column_names) != n_columns:\n",
    "                raise Exception(\"Column titles do not match the number of columns\")\n",
    "\n",
    "            columns = column_names if len(column_names) > 0 else range(0,n_columns)\n",
    "\n",
    "            #print(n_rows, n_columns)\n",
    "            df = pd.DataFrame(columns = columns,\n",
    "                  index= range(0,n_rows))\n",
    "\n",
    "            row_marker = 0\n",
    "            for row in table.find_all('tr'):\n",
    "                column_marker = 0\n",
    "                columns = row.find_all('td')\n",
    "\n",
    "                for column in columns:\n",
    "                    df.iat[row_marker,column_marker] = column.get_text()\n",
    "                    column_marker += 1\n",
    "                if len(columns) > 0:\n",
    "                    row_marker += 1\n",
    "\n",
    "            # Convert to float if possible\n",
    "            for col in df:\n",
    "                    df[col] = df[col]\n",
    "        except Exception as ex:\n",
    "            #print(ex)\n",
    "            pass\n",
    "        #df.head(10)\n",
    "        return df\n"
   ]
  },
  {
   "cell_type": "markdown",
   "metadata": {},
   "source": [
    "### Grab the historical data\n",
    "\n",
    "Keep the historical data.\n",
    "\n",
    "At a later stage, just download the daily new data and add to the time series."
   ]
  },
  {
   "cell_type": "code",
   "execution_count": 27,
   "metadata": {},
   "outputs": [],
   "source": [
    "url_base = \"https://www.mai.gov.ro/informare-covid-19-grupul-de-comunicare-strategica-\"\n",
    "url_data =\\\n",
    "    [('2020-04-02',\"2-aprilie-ora-13-00/\"),\n",
    "     ('2020-04-03',\"3-aprilie-2020-ora-13-00/\"),\n",
    "     ('2020-04-04',\"4-aprilie-2020-ora-13-00/\"),\n",
    "     ('2020-04-05',\"5-aprilie-2020-ora-13-00/\"),\n",
    "     ('2020-04-06',\"6-aprilie-2020-ora-13-00/\"),\n",
    "     ('2020-04-07', \"6-aprilie-2020-ora-13-00-2/\"),\n",
    "     ('2020-04-08', \"8-aprilie-2020-ora-13-00/\"),\n",
    "     ('2020-04-09', \"9-aprilie-2020-ora-13-00/\"),\n",
    "     ('2020-04-10', \"10-aprilie-2020-ora-13-00/\"),\n",
    "     ('2020-04-11', \"11-aprilie-2020-ora-13-00/\"),\n",
    "     ('2020-04-12', \"12-aprilie-2020-ora-13-00/\"),\n",
    "     ('2020-04-13', \"13-aprilie-2020-ora-13-00/\"),\n",
    "     ('2020-04-14', \"14-aprilie-2020-ora-13-00/\"),\n",
    "     ('2020-04-15', \"15-aprilie-2020-ora-13-00/\"),\n",
    "     ('2020-04-16', \"16-aprilie-2020-ora-13-00/\")\n",
    "    ]"
   ]
  },
  {
   "cell_type": "code",
   "execution_count": 28,
   "metadata": {},
   "outputs": [],
   "source": [
    "import re\n",
    "import numpy as np\n",
    "\n",
    "def get_ati_patients(paragraphs):\n",
    "    regex = \"La ATI, în acest moment, sunt internați+(.[0-9]*)\"\n",
    "    for paragraph in paragraphs:\n",
    "        group = 1\n",
    "        pattern = re.compile(regex, re.UNICODE | re.IGNORECASE)\n",
    "        results = [match.group(group) for match in pattern.finditer(paragraph)]\n",
    "        if(results):\n",
    "            return results[0]"
   ]
  },
  {
   "cell_type": "code",
   "execution_count": 29,
   "metadata": {},
   "outputs": [],
   "source": [
    "def get_quarantine(paragraphs):\n",
    "    regex = \"în carantină instituționalizată sunt+(.[ 0-9.]*)\"\n",
    "    for paragraph in paragraphs:\n",
    "        group = 1\n",
    "        pattern = re.compile(regex, re.UNICODE | re.IGNORECASE)\n",
    "        results = [match.group(group) for match in pattern.finditer(paragraph)]\n",
    "        if(results):\n",
    "            results = results[0]   \n",
    "            return results    "
   ]
  },
  {
   "cell_type": "code",
   "execution_count": 30,
   "metadata": {},
   "outputs": [],
   "source": [
    "def get_isolation(paragraphs):\n",
    "    regex = \"de persoane. Alte +(.[ 0-9.]*)\"\n",
    "    for paragraph in paragraphs:\n",
    "        group = 1\n",
    "        pattern = re.compile(regex, re.UNICODE | re.IGNORECASE)\n",
    "        results = [match.group(group) for match in pattern.finditer(paragraph)]\n",
    "        if(results):\n",
    "            results = results[0]   \n",
    "            return results    "
   ]
  },
  {
   "cell_type": "code",
   "execution_count": 31,
   "metadata": {},
   "outputs": [],
   "source": [
    "def get_tests(paragraphs):\n",
    "    regex = \"Până la această dată, la nivel național, au fost prelucrate+(.[ 0-9.]*)\"\n",
    "    for paragraph in paragraphs:\n",
    "        group = 1\n",
    "        pattern = re.compile(regex, re.UNICODE | re.IGNORECASE)\n",
    "        results = [match.group(group) for match in pattern.finditer(paragraph)]\n",
    "        if(results):\n",
    "            results = results[0]   \n",
    "            return results        "
   ]
  },
  {
   "cell_type": "code",
   "execution_count": 32,
   "metadata": {
    "scrolled": false
   },
   "outputs": [
    {
     "name": "stdout",
     "output_type": "stream",
     "text": [
      "current date: 2020-04-02, table rows: 44\n",
      "current date: 2020-04-03, table rows: 44\n",
      "current date: 2020-04-04, table rows: 45\n",
      "current date: 2020-04-05, table rows: 44\n",
      "current date: 2020-04-06, table rows: 44\n",
      "current date: 2020-04-07, table rows: 44\n",
      "current date: 2020-04-08, table rows: 44\n",
      "current date: 2020-04-09, table rows: 44\n",
      "current date: 2020-04-10, table rows: 44\n",
      "current date: 2020-04-11, table rows: 44\n",
      "current date: 2020-04-12, table rows: 44\n",
      "current date: 2020-04-13, table rows: 44\n",
      "current date: 2020-04-14, table rows: 44\n",
      "current date: 2020-04-15, table rows: 44\n",
      "current date: 2020-04-16, table rows: 44\n"
     ]
    }
   ],
   "source": [
    "hp = HTMLPageParser()\n",
    "all_data_df = pd.DataFrame()\n",
    "country_data_df = pd.DataFrame()\n",
    "for current_date, current_url in url_data:\n",
    "    compose_url = f\"{url_base}{current_url}\"\n",
    "    paragraphs, tables = hp.parse_url(compose_url)\n",
    "    \n",
    "    # Process table data - to extract county-level data\n",
    "    # retain only the first table\n",
    "    payload_table = tables[0]\n",
    "    print(f\"current date: {current_date}, table rows: {payload_table.shape[0]}\")\n",
    "    payload_table['date'] = current_date\n",
    "    #remove headers & footers\n",
    "    payload_table = payload_table.iloc[1:]\n",
    "    payload_table = payload_table.iloc[:-1]\n",
    "    all_data_df = all_data_df.append(payload_table)\n",
    "    \n",
    "    # Process paragraph data - to extract country-level data\n",
    "    ati = get_ati_patients(paragraphs)\n",
    "    quarantine = get_quarantine(paragraphs)\n",
    "    isolation = get_isolation(paragraphs)\n",
    "    tests = get_tests(paragraphs)  \n",
    "    country_data_df = country_data_df.append(pd.DataFrame({'date':current_date, 'ati': ati,\\\n",
    "                                    'quarantine': quarantine, 'isolation': isolation, 'tests': tests}, index=[0]))\n",
    "    \n",
    "all_data_df.columns = ['No', 'County', 'Confirmed', 'Date']"
   ]
  },
  {
   "cell_type": "code",
   "execution_count": 33,
   "metadata": {},
   "outputs": [
    {
     "data": {
      "text/plain": [
       "((631, 4), Index(['No', 'County', 'Confirmed', 'Date'], dtype='object'))"
      ]
     },
     "execution_count": 33,
     "metadata": {},
     "output_type": "execute_result"
    }
   ],
   "source": [
    "all_data_df.shape, all_data_df.columns"
   ]
  },
  {
   "cell_type": "code",
   "execution_count": 34,
   "metadata": {},
   "outputs": [
    {
     "data": {
      "text/html": [
       "<div>\n",
       "<style scoped>\n",
       "    .dataframe tbody tr th:only-of-type {\n",
       "        vertical-align: middle;\n",
       "    }\n",
       "\n",
       "    .dataframe tbody tr th {\n",
       "        vertical-align: top;\n",
       "    }\n",
       "\n",
       "    .dataframe thead th {\n",
       "        text-align: right;\n",
       "    }\n",
       "</style>\n",
       "<table border=\"1\" class=\"dataframe\">\n",
       "  <thead>\n",
       "    <tr style=\"text-align: right;\">\n",
       "      <th></th>\n",
       "      <th>date</th>\n",
       "      <th>ati</th>\n",
       "      <th>quarantine</th>\n",
       "      <th>isolation</th>\n",
       "      <th>tests</th>\n",
       "    </tr>\n",
       "  </thead>\n",
       "  <tbody>\n",
       "    <tr>\n",
       "      <td>0</td>\n",
       "      <td>2020-04-02</td>\n",
       "      <td>78</td>\n",
       "      <td></td>\n",
       "      <td>114.699</td>\n",
       "      <td>28.483</td>\n",
       "    </tr>\n",
       "    <tr>\n",
       "      <td>0</td>\n",
       "      <td>2020-04-03</td>\n",
       "      <td>83</td>\n",
       "      <td></td>\n",
       "      <td>114.646</td>\n",
       "      <td>31.657</td>\n",
       "    </tr>\n",
       "    <tr>\n",
       "      <td>0</td>\n",
       "      <td>2020-04-04</td>\n",
       "      <td>119</td>\n",
       "      <td></td>\n",
       "      <td>113.449</td>\n",
       "      <td>36.092</td>\n",
       "    </tr>\n",
       "    <tr>\n",
       "      <td>0</td>\n",
       "      <td>2020-04-05</td>\n",
       "      <td>141</td>\n",
       "      <td></td>\n",
       "      <td>108.810</td>\n",
       "      <td>38.623</td>\n",
       "    </tr>\n",
       "    <tr>\n",
       "      <td>0</td>\n",
       "      <td>2020-04-06</td>\n",
       "      <td>179</td>\n",
       "      <td>23.849</td>\n",
       "      <td>106.463</td>\n",
       "      <td>40.987</td>\n",
       "    </tr>\n",
       "    <tr>\n",
       "      <td>0</td>\n",
       "      <td>2020-04-07</td>\n",
       "      <td>274</td>\n",
       "      <td>25.379</td>\n",
       "      <td>91.369</td>\n",
       "      <td>43.578</td>\n",
       "    </tr>\n",
       "    <tr>\n",
       "      <td>0</td>\n",
       "      <td>2020-04-08</td>\n",
       "      <td>162</td>\n",
       "      <td>25.556</td>\n",
       "      <td>89.976</td>\n",
       "      <td>47.207</td>\n",
       "    </tr>\n",
       "    <tr>\n",
       "      <td>0</td>\n",
       "      <td>2020-04-09</td>\n",
       "      <td>178</td>\n",
       "      <td>25.586</td>\n",
       "      <td>87.400</td>\n",
       "      <td>51.802</td>\n",
       "    </tr>\n",
       "    <tr>\n",
       "      <td>0</td>\n",
       "      <td>2020-04-10</td>\n",
       "      <td>183</td>\n",
       "      <td>25.226</td>\n",
       "      <td>77.317</td>\n",
       "      <td>55.430</td>\n",
       "    </tr>\n",
       "    <tr>\n",
       "      <td>0</td>\n",
       "      <td>2020-04-11</td>\n",
       "      <td>208</td>\n",
       "      <td>24.984</td>\n",
       "      <td>74.233</td>\n",
       "      <td>59.272</td>\n",
       "    </tr>\n",
       "    <tr>\n",
       "      <td>0</td>\n",
       "      <td>2020-04-12</td>\n",
       "      <td>204</td>\n",
       "      <td>24.193</td>\n",
       "      <td>68.757</td>\n",
       "      <td>62.328</td>\n",
       "    </tr>\n",
       "    <tr>\n",
       "      <td>0</td>\n",
       "      <td>2020-04-13</td>\n",
       "      <td>231</td>\n",
       "      <td>24.020</td>\n",
       "      <td>71.293</td>\n",
       "      <td>67.204</td>\n",
       "    </tr>\n",
       "    <tr>\n",
       "      <td>0</td>\n",
       "      <td>2020-04-14</td>\n",
       "      <td>241</td>\n",
       "      <td>23.645</td>\n",
       "      <td>67.268</td>\n",
       "      <td>70.097</td>\n",
       "    </tr>\n",
       "    <tr>\n",
       "      <td>0</td>\n",
       "      <td>2020-04-15</td>\n",
       "      <td>245</td>\n",
       "      <td>23.353</td>\n",
       "      <td>67.317</td>\n",
       "      <td>74.827</td>\n",
       "    </tr>\n",
       "    <tr>\n",
       "      <td>0</td>\n",
       "      <td>2020-04-16</td>\n",
       "      <td>243</td>\n",
       "      <td>22.866</td>\n",
       "      <td>60.697</td>\n",
       "      <td>79.629</td>\n",
       "    </tr>\n",
       "  </tbody>\n",
       "</table>\n",
       "</div>"
      ],
      "text/plain": [
       "         date   ati quarantine isolation     tests\n",
       "0  2020-04-02    78             114.699    28.483 \n",
       "0  2020-04-03    83             114.646    31.657 \n",
       "0  2020-04-04   119             113.449    36.092 \n",
       "0  2020-04-05   141             108.810    38.623 \n",
       "0  2020-04-06   179    23.849   106.463    40.987 \n",
       "0  2020-04-07   274    25.379    91.369    43.578 \n",
       "0  2020-04-08   162    25.556    89.976    47.207 \n",
       "0  2020-04-09   178    25.586    87.400    51.802 \n",
       "0  2020-04-10   183    25.226    77.317    55.430 \n",
       "0  2020-04-11   208    24.984    74.233    59.272 \n",
       "0  2020-04-12   204    24.193    68.757    62.328 \n",
       "0  2020-04-13   231    24.020    71.293    67.204 \n",
       "0  2020-04-14   241    23.645    67.268    70.097 \n",
       "0  2020-04-15   245    23.353    67.317    74.827 \n",
       "0  2020-04-16   243    22.866    60.697    79.629 "
      ]
     },
     "execution_count": 34,
     "metadata": {},
     "output_type": "execute_result"
    }
   ],
   "source": [
    "country_data_df"
   ]
  },
  {
   "cell_type": "code",
   "execution_count": 35,
   "metadata": {},
   "outputs": [
    {
     "data": {
      "text/html": [
       "<div>\n",
       "<style scoped>\n",
       "    .dataframe tbody tr th:only-of-type {\n",
       "        vertical-align: middle;\n",
       "    }\n",
       "\n",
       "    .dataframe tbody tr th {\n",
       "        vertical-align: top;\n",
       "    }\n",
       "\n",
       "    .dataframe thead th {\n",
       "        text-align: right;\n",
       "    }\n",
       "</style>\n",
       "<table border=\"1\" class=\"dataframe\">\n",
       "  <thead>\n",
       "    <tr style=\"text-align: right;\">\n",
       "      <th></th>\n",
       "      <th>No</th>\n",
       "      <th>County</th>\n",
       "      <th>Confirmed</th>\n",
       "      <th>Date</th>\n",
       "    </tr>\n",
       "  </thead>\n",
       "  <tbody>\n",
       "    <tr>\n",
       "      <td>1</td>\n",
       "      <td>1.</td>\n",
       "      <td>Alba</td>\n",
       "      <td>9</td>\n",
       "      <td>2020-04-02</td>\n",
       "    </tr>\n",
       "    <tr>\n",
       "      <td>2</td>\n",
       "      <td>2.</td>\n",
       "      <td>Arad</td>\n",
       "      <td>110</td>\n",
       "      <td>2020-04-02</td>\n",
       "    </tr>\n",
       "    <tr>\n",
       "      <td>3</td>\n",
       "      <td>3.</td>\n",
       "      <td>Argeș</td>\n",
       "      <td>10</td>\n",
       "      <td>2020-04-02</td>\n",
       "    </tr>\n",
       "    <tr>\n",
       "      <td>4</td>\n",
       "      <td>4.</td>\n",
       "      <td>Bacău</td>\n",
       "      <td>19</td>\n",
       "      <td>2020-04-02</td>\n",
       "    </tr>\n",
       "    <tr>\n",
       "      <td>5</td>\n",
       "      <td>5.</td>\n",
       "      <td>Bihor</td>\n",
       "      <td>39</td>\n",
       "      <td>2020-04-02</td>\n",
       "    </tr>\n",
       "  </tbody>\n",
       "</table>\n",
       "</div>"
      ],
      "text/plain": [
       "   No County Confirmed        Date\n",
       "1  1.   Alba         9  2020-04-02\n",
       "2  2.   Arad       110  2020-04-02\n",
       "3  3.  Argeș        10  2020-04-02\n",
       "4  4.  Bacău        19  2020-04-02\n",
       "5  5.  Bihor        39  2020-04-02"
      ]
     },
     "execution_count": 35,
     "metadata": {},
     "output_type": "execute_result"
    }
   ],
   "source": [
    "all_data_df.head()"
   ]
  },
  {
   "cell_type": "code",
   "execution_count": 36,
   "metadata": {},
   "outputs": [
    {
     "data": {
      "text/plain": [
       "array(['Alba', 'Arad', 'Argeș', 'Bacău', 'Bihor', 'Bistrița-Năsăud',\n",
       "       'Botoșani', 'Brașov', 'Brăila', 'Buzău', 'Caraș-Severin',\n",
       "       'Călărași', 'Cluj', 'Constanța', 'Covasna', 'Dâmbovița', 'Dolj',\n",
       "       'Galați', 'Giurgiu', 'Gorj', 'Harghita', 'Hunedoara', 'Ialomița',\n",
       "       'Iași', 'Ilfov', 'Maramureș', 'Mehedinți', 'Mureș', 'Neamț', 'Olt',\n",
       "       'Prahova', 'Satu Mare', 'Sălaj', 'Sibiu', 'Suceava', 'Teleorman',\n",
       "       'Timiș', 'Tulcea', 'Vaslui', 'Vâlcea', 'Vrancea', 'Mun. București',\n",
       "       '–'], dtype=object)"
      ]
     },
     "execution_count": 36,
     "metadata": {},
     "output_type": "execute_result"
    }
   ],
   "source": [
    "all_data_df.County.unique()"
   ]
  },
  {
   "cell_type": "code",
   "execution_count": 37,
   "metadata": {},
   "outputs": [
    {
     "data": {
      "text/plain": [
       "array(['9', '110', '10', '19', '39', '22', '40', '117', '11', '12', '13',\n",
       "       '17', '105', '111', '34', '82', '7', '–', '100', '37', '54', '38',\n",
       "       '107', '8', '27', '16', '6', '701', '98', '60', '505', '24', '44',\n",
       "       '124', '26', '108', '90', '1', '45', '72', '46', '55', '150',\n",
       "       '866', '126', '70', '544', '15', '128', '14', '28', '48', '127',\n",
       "       '29', '121', '101', '23', '123', '50', '81', '64', '42', '57',\n",
       "       '148', '25', '5', '967', '21', '136', '550', '33', '68', '131',\n",
       "       '30', '114', '47', '56', '88', '78', '160', '49', '1.215', '176',\n",
       "       '79', '552', '157', '52', '58', '84', '138', '31', '119', '32',\n",
       "       '3', '63', '87', '89', '1.228', '181', '566', '161', '86', '156',\n",
       "       '133', '158', '92', '99', '43', '182', '36', '69', '1.322', '191',\n",
       "       '598', '83', '51', '35', '129', '174', '106', '41', '103', '196',\n",
       "       '1.430', '227', '637', '162', '66', '76', '175', '62', '4', '212',\n",
       "       '146', '202', '1.487', '252', '95', '659', '179', '190', '152',\n",
       "       '85', '115', '234', '94', '1.529', '259', '688', '229', '65',\n",
       "       '155', '219', '177', '91', '183', '254', '203', '265', '1.614',\n",
       "       '59', '275', '116', '730', '249', '238', '303', '113', '217',\n",
       "       '285', '109', '1.661', '284', '751', '270', '253', '53', '187',\n",
       "       '151', '195', '102', '118', '222', '286', '1.731', '300', '134',\n",
       "       '774', '280', '172', '263', '198', '204', '74', '320', '132',\n",
       "       '304', '18', '1.733', '318', '789', '312', '93', '231', '163',\n",
       "       '75', '135', '243', '344', '120', '1.763', '322', '824', '141',\n",
       "       '339', '67', '290', '215', '168', '240', '80', '333', '130', '154',\n",
       "       '250', '348', '125', '1.910', '341'], dtype=object)"
      ]
     },
     "execution_count": 37,
     "metadata": {},
     "output_type": "execute_result"
    }
   ],
   "source": [
    "all_data_df.Confirmed.unique()"
   ]
  },
  {
   "cell_type": "code",
   "execution_count": 38,
   "metadata": {},
   "outputs": [
    {
     "data": {
      "text/plain": [
       "array(['2020-04-02', '2020-04-03', '2020-04-04', '2020-04-05',\n",
       "       '2020-04-06', '2020-04-07', '2020-04-08', '2020-04-09',\n",
       "       '2020-04-10', '2020-04-11', '2020-04-12', '2020-04-13',\n",
       "       '2020-04-14', '2020-04-15', '2020-04-16'], dtype=object)"
      ]
     },
     "execution_count": 38,
     "metadata": {},
     "output_type": "execute_result"
    }
   ],
   "source": [
    "all_data_df.Date.unique()"
   ]
  },
  {
   "cell_type": "markdown",
   "metadata": {},
   "source": [
    "### Replace '-' in County with 'Not identified'"
   ]
  },
  {
   "cell_type": "code",
   "execution_count": 39,
   "metadata": {},
   "outputs": [],
   "source": [
    "all_data_df.loc[all_data_df['County']=='–', 'County'] = 'Not identified'"
   ]
  },
  {
   "cell_type": "markdown",
   "metadata": {},
   "source": [
    "### Replace '-' in Confirmed with '0' and fix decimal point"
   ]
  },
  {
   "cell_type": "code",
   "execution_count": 40,
   "metadata": {},
   "outputs": [],
   "source": [
    "# replace - in Confirmed\n",
    "all_data_df.loc[all_data_df['Confirmed']=='–', 'Confirmed'] = 0\n",
    "# fix decimal point\n",
    "all_data_df['Confirmed'] = all_data_df['Confirmed'].astype(str)\n",
    "all_data_df['Confirmed'] = all_data_df['Confirmed'].apply(lambda x: x.replace(\".\", \"\"))\n",
    "all_data_df['Confirmed'] = all_data_df['Confirmed'].astype(int)"
   ]
  },
  {
   "cell_type": "code",
   "execution_count": 41,
   "metadata": {},
   "outputs": [
    {
     "data": {
      "text/plain": [
       "(1910, 0)"
      ]
     },
     "execution_count": 41,
     "metadata": {},
     "output_type": "execute_result"
    }
   ],
   "source": [
    "max(all_data_df.Confirmed), min(all_data_df.Confirmed)"
   ]
  },
  {
   "cell_type": "markdown",
   "metadata": {},
   "source": [
    "## Global data, fix decimal point"
   ]
  },
  {
   "cell_type": "code",
   "execution_count": 42,
   "metadata": {},
   "outputs": [
    {
     "data": {
      "text/html": [
       "<div>\n",
       "<style scoped>\n",
       "    .dataframe tbody tr th:only-of-type {\n",
       "        vertical-align: middle;\n",
       "    }\n",
       "\n",
       "    .dataframe tbody tr th {\n",
       "        vertical-align: top;\n",
       "    }\n",
       "\n",
       "    .dataframe thead th {\n",
       "        text-align: right;\n",
       "    }\n",
       "</style>\n",
       "<table border=\"1\" class=\"dataframe\">\n",
       "  <thead>\n",
       "    <tr style=\"text-align: right;\">\n",
       "      <th></th>\n",
       "      <th>date</th>\n",
       "      <th>ati</th>\n",
       "      <th>quarantine</th>\n",
       "      <th>isolation</th>\n",
       "      <th>tests</th>\n",
       "    </tr>\n",
       "  </thead>\n",
       "  <tbody>\n",
       "    <tr>\n",
       "      <td>0</td>\n",
       "      <td>2020-04-02</td>\n",
       "      <td>78</td>\n",
       "      <td></td>\n",
       "      <td>114.699</td>\n",
       "      <td>28.483</td>\n",
       "    </tr>\n",
       "    <tr>\n",
       "      <td>0</td>\n",
       "      <td>2020-04-03</td>\n",
       "      <td>83</td>\n",
       "      <td></td>\n",
       "      <td>114.646</td>\n",
       "      <td>31.657</td>\n",
       "    </tr>\n",
       "    <tr>\n",
       "      <td>0</td>\n",
       "      <td>2020-04-04</td>\n",
       "      <td>119</td>\n",
       "      <td></td>\n",
       "      <td>113.449</td>\n",
       "      <td>36.092</td>\n",
       "    </tr>\n",
       "    <tr>\n",
       "      <td>0</td>\n",
       "      <td>2020-04-05</td>\n",
       "      <td>141</td>\n",
       "      <td></td>\n",
       "      <td>108.810</td>\n",
       "      <td>38.623</td>\n",
       "    </tr>\n",
       "    <tr>\n",
       "      <td>0</td>\n",
       "      <td>2020-04-06</td>\n",
       "      <td>179</td>\n",
       "      <td>23.849</td>\n",
       "      <td>106.463</td>\n",
       "      <td>40.987</td>\n",
       "    </tr>\n",
       "    <tr>\n",
       "      <td>0</td>\n",
       "      <td>2020-04-07</td>\n",
       "      <td>274</td>\n",
       "      <td>25.379</td>\n",
       "      <td>91.369</td>\n",
       "      <td>43.578</td>\n",
       "    </tr>\n",
       "    <tr>\n",
       "      <td>0</td>\n",
       "      <td>2020-04-08</td>\n",
       "      <td>162</td>\n",
       "      <td>25.556</td>\n",
       "      <td>89.976</td>\n",
       "      <td>47.207</td>\n",
       "    </tr>\n",
       "    <tr>\n",
       "      <td>0</td>\n",
       "      <td>2020-04-09</td>\n",
       "      <td>178</td>\n",
       "      <td>25.586</td>\n",
       "      <td>87.400</td>\n",
       "      <td>51.802</td>\n",
       "    </tr>\n",
       "    <tr>\n",
       "      <td>0</td>\n",
       "      <td>2020-04-10</td>\n",
       "      <td>183</td>\n",
       "      <td>25.226</td>\n",
       "      <td>77.317</td>\n",
       "      <td>55.430</td>\n",
       "    </tr>\n",
       "    <tr>\n",
       "      <td>0</td>\n",
       "      <td>2020-04-11</td>\n",
       "      <td>208</td>\n",
       "      <td>24.984</td>\n",
       "      <td>74.233</td>\n",
       "      <td>59.272</td>\n",
       "    </tr>\n",
       "    <tr>\n",
       "      <td>0</td>\n",
       "      <td>2020-04-12</td>\n",
       "      <td>204</td>\n",
       "      <td>24.193</td>\n",
       "      <td>68.757</td>\n",
       "      <td>62.328</td>\n",
       "    </tr>\n",
       "    <tr>\n",
       "      <td>0</td>\n",
       "      <td>2020-04-13</td>\n",
       "      <td>231</td>\n",
       "      <td>24.020</td>\n",
       "      <td>71.293</td>\n",
       "      <td>67.204</td>\n",
       "    </tr>\n",
       "    <tr>\n",
       "      <td>0</td>\n",
       "      <td>2020-04-14</td>\n",
       "      <td>241</td>\n",
       "      <td>23.645</td>\n",
       "      <td>67.268</td>\n",
       "      <td>70.097</td>\n",
       "    </tr>\n",
       "    <tr>\n",
       "      <td>0</td>\n",
       "      <td>2020-04-15</td>\n",
       "      <td>245</td>\n",
       "      <td>23.353</td>\n",
       "      <td>67.317</td>\n",
       "      <td>74.827</td>\n",
       "    </tr>\n",
       "    <tr>\n",
       "      <td>0</td>\n",
       "      <td>2020-04-16</td>\n",
       "      <td>243</td>\n",
       "      <td>22.866</td>\n",
       "      <td>60.697</td>\n",
       "      <td>79.629</td>\n",
       "    </tr>\n",
       "  </tbody>\n",
       "</table>\n",
       "</div>"
      ],
      "text/plain": [
       "         date   ati quarantine isolation     tests\n",
       "0  2020-04-02    78             114.699    28.483 \n",
       "0  2020-04-03    83             114.646    31.657 \n",
       "0  2020-04-04   119             113.449    36.092 \n",
       "0  2020-04-05   141             108.810    38.623 \n",
       "0  2020-04-06   179    23.849   106.463    40.987 \n",
       "0  2020-04-07   274    25.379    91.369    43.578 \n",
       "0  2020-04-08   162    25.556    89.976    47.207 \n",
       "0  2020-04-09   178    25.586    87.400    51.802 \n",
       "0  2020-04-10   183    25.226    77.317    55.430 \n",
       "0  2020-04-11   208    24.984    74.233    59.272 \n",
       "0  2020-04-12   204    24.193    68.757    62.328 \n",
       "0  2020-04-13   231    24.020    71.293    67.204 \n",
       "0  2020-04-14   241    23.645    67.268    70.097 \n",
       "0  2020-04-15   245    23.353    67.317    74.827 \n",
       "0  2020-04-16   243    22.866    60.697    79.629 "
      ]
     },
     "execution_count": 42,
     "metadata": {},
     "output_type": "execute_result"
    }
   ],
   "source": [
    "country_data_df"
   ]
  },
  {
   "cell_type": "code",
   "execution_count": 43,
   "metadata": {},
   "outputs": [],
   "source": [
    "# fix decimal point\n",
    "country_data_df.loc[country_data_df['quarantine']==' ', 'quarantine'] = 0\n",
    "for feature in ['ati', 'quarantine', 'isolation', 'tests']:\n",
    "    country_data_df[feature] = country_data_df[feature].astype(str)\n",
    "    country_data_df[feature] = country_data_df[feature].apply(lambda x: x.replace(\".\", \"\"))\n",
    "    country_data_df[feature] = country_data_df[feature].astype(int)"
   ]
  },
  {
   "cell_type": "code",
   "execution_count": 44,
   "metadata": {},
   "outputs": [
    {
     "data": {
      "text/plain": [
       "array(['Alba', 'Arad', 'Argeș', 'Bacău', 'Bihor', 'Bistrița-Năsăud',\n",
       "       'Botoșani', 'Brașov', 'Brăila', 'Buzău', 'Caraș-Severin',\n",
       "       'Călărași', 'Cluj', 'Constanța', 'Covasna', 'Dâmbovița', 'Dolj',\n",
       "       'Galați', 'Giurgiu', 'Gorj', 'Harghita', 'Hunedoara', 'Ialomița',\n",
       "       'Iași', 'Ilfov', 'Maramureș', 'Mehedinți', 'Mureș', 'Neamț', 'Olt',\n",
       "       'Prahova', 'Satu Mare', 'Sălaj', 'Sibiu', 'Suceava', 'Teleorman',\n",
       "       'Timiș', 'Tulcea', 'Vaslui', 'Vâlcea', 'Vrancea', 'Mun. București',\n",
       "       'Not identified'], dtype=object)"
      ]
     },
     "execution_count": 44,
     "metadata": {},
     "output_type": "execute_result"
    }
   ],
   "source": [
    "all_data_df.County.unique()"
   ]
  },
  {
   "cell_type": "code",
   "execution_count": 45,
   "metadata": {},
   "outputs": [
    {
     "data": {
      "text/plain": [
       "array([   9,  110,   10,   19,   39,   22,   40,  117,   11,   12,   13,\n",
       "         17,  105,  111,   34,   82,    7,    0,  100,   37,   54,   38,\n",
       "        107,    8,   27,   16,    6,  701,   98,   60,  505,   24,   44,\n",
       "        124,   26,  108,   90,    1,   45,   72,   46,   55,  150,  866,\n",
       "        126,   70,  544,   15,  128,   14,   28,   48,  127,   29,  121,\n",
       "        101,   23,  123,   50,   81,   64,   42,   57,  148,   25,    5,\n",
       "        967,   21,  136,  550,   33,   68,  131,   30,  114,   47,   56,\n",
       "         88,   78,  160,   49, 1215,  176,   79,  552,  157,   52,   58,\n",
       "         84,  138,   31,  119,   32,    3,   63,   87,   89, 1228,  181,\n",
       "        566,  161,   86,  156,  133,  158,   92,   99,   43,  182,   36,\n",
       "         69, 1322,  191,  598,   83,   51,   35,  129,  174,  106,   41,\n",
       "        103,  196, 1430,  227,  637,  162,   66,   76,  175,   62,    4,\n",
       "        212,  146,  202, 1487,  252,   95,  659,  179,  190,  152,   85,\n",
       "        115,  234,   94, 1529,  259,  688,  229,   65,  155,  219,  177,\n",
       "         91,  183,  254,  203,  265, 1614,   59,  275,  116,  730,  249,\n",
       "        238,  303,  113,  217,  285,  109, 1661,  284,  751,  270,  253,\n",
       "         53,  187,  151,  195,  102,  118,  222,  286, 1731,  300,  134,\n",
       "        774,  280,  172,  263,  198,  204,   74,  320,  132,  304,   18,\n",
       "       1733,  318,  789,  312,   93,  231,  163,   75,  135,  243,  344,\n",
       "        120, 1763,  322,  824,  141,  339,   67,  290,  215,  168,  240,\n",
       "         80,  333,  130,  154,  250,  348,  125, 1910,  341], dtype=int64)"
      ]
     },
     "execution_count": 45,
     "metadata": {},
     "output_type": "execute_result"
    }
   ],
   "source": [
    "all_data_df.Confirmed.unique()"
   ]
  },
  {
   "cell_type": "code",
   "execution_count": 46,
   "metadata": {},
   "outputs": [],
   "source": [
    "for date in all_data_df.Date.unique():\n",
    "    d_df = all_data_df.loc[all_data_df.Date==date]\n",
    "    d_df.to_csv(os.path.join('ro_covid_19_daily_reports', f\"{date}.csv\"), index=False)"
   ]
  },
  {
   "cell_type": "code",
   "execution_count": 47,
   "metadata": {},
   "outputs": [],
   "source": [
    "all_data_df.to_csv(os.path.join('ro_covid_19_time_series', \"ro_covid_19_time_series.csv\"), index=False)\n",
    "country_data_df.to_csv(os.path.join('ro_covid_19_time_series', \"ro_covid_19_country_data_time_series.csv\"), index=False)"
   ]
  },
  {
   "cell_type": "code",
   "execution_count": 48,
   "metadata": {},
   "outputs": [
    {
     "data": {
      "text/plain": [
       "Date\n",
       "2020-04-02    2738\n",
       "2020-04-03    3183\n",
       "2020-04-04    3393\n",
       "2020-04-05    3864\n",
       "2020-04-06    4057\n",
       "2020-04-07    4417\n",
       "2020-04-08    4761\n",
       "2020-04-09    5202\n",
       "2020-04-10    5467\n",
       "2020-04-11    5990\n",
       "2020-04-12    6300\n",
       "2020-04-13    6633\n",
       "2020-04-14    6879\n",
       "2020-04-15    7216\n",
       "2020-04-16    7707\n",
       "Name: Confirmed, dtype: int32"
      ]
     },
     "execution_count": 48,
     "metadata": {},
     "output_type": "execute_result"
    }
   ],
   "source": [
    "all_data_df.groupby('Date')['Confirmed'].sum()"
   ]
  }
 ],
 "metadata": {
  "kernelspec": {
   "display_name": "Python 3",
   "language": "python",
   "name": "python3"
  },
  "language_info": {
   "codemirror_mode": {
    "name": "ipython",
    "version": 3
   },
   "file_extension": ".py",
   "mimetype": "text/x-python",
   "name": "python",
   "nbconvert_exporter": "python",
   "pygments_lexer": "ipython3",
   "version": "3.7.4"
  }
 },
 "nbformat": 4,
 "nbformat_minor": 2
}
