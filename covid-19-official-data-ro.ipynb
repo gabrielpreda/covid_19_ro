{
 "cells": [
  {
   "cell_type": "markdown",
   "metadata": {},
   "source": [
    "### Run the module"
   ]
  },
  {
   "cell_type": "code",
   "execution_count": 3,
   "metadata": {},
   "outputs": [
    {
     "name": "stdout",
     "output_type": "stream",
     "text": [
      "current date: 2020-04-02, table rows: 44\n",
      "current date: 2020-04-03, table rows: 44\n",
      "current date: 2020-04-04, table rows: 45\n",
      "current date: 2020-04-05, table rows: 44\n",
      "current date: 2020-04-06, table rows: 44\n",
      "current date: 2020-04-07, table rows: 44\n",
      "current date: 2020-04-08, table rows: 44\n",
      "current date: 2020-04-09, table rows: 44\n",
      "current date: 2020-04-10, table rows: 44\n",
      "current date: 2020-04-11, table rows: 44\n",
      "current date: 2020-04-12, table rows: 44\n",
      "current date: 2020-04-13, table rows: 44\n",
      "current date: 2020-04-14, table rows: 44\n",
      "current date: 2020-04-15, table rows: 44\n",
      "current date: 2020-04-16, table rows: 44\n",
      "current date: 2020-04-17, table rows: 44\n",
      "current date: 2020-04-18, table rows: 44\n"
     ]
    }
   ],
   "source": [
    "!python covid-19-official-data-ro.py"
   ]
  }
 ],
 "metadata": {
  "kernelspec": {
   "display_name": "Python 3",
   "language": "python",
   "name": "python3"
  },
  "language_info": {
   "codemirror_mode": {
    "name": "ipython",
    "version": 3
   },
   "file_extension": ".py",
   "mimetype": "text/x-python",
   "name": "python",
   "nbconvert_exporter": "python",
   "pygments_lexer": "ipython3",
   "version": "3.7.4"
  }
 },
 "nbformat": 4,
 "nbformat_minor": 2
}
