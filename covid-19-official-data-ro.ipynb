{
 "cells": [
  {
   "cell_type": "markdown",
   "metadata": {},
   "source": [
    "### Run the module"
   ]
  },
  {
   "cell_type": "code",
   "execution_count": 1,
   "metadata": {},
   "outputs": [
    {
     "name": "stdout",
     "output_type": "stream",
     "text": [
      "current date: 2020-04-02, table rows: 44\n",
      "current date: 2020-04-03, table rows: 44\n",
      "current date: 2020-04-04, table rows: 45\n",
      "current date: 2020-04-05, table rows: 44\n",
      "current date: 2020-04-06, table rows: 44\n",
      "current date: 2020-04-07, table rows: 44\n",
      "current date: 2020-04-08, table rows: 44\n",
      "current date: 2020-04-09, table rows: 44\n",
      "current date: 2020-04-10, table rows: 44\n",
      "current date: 2020-04-11, table rows: 44\n",
      "current date: 2020-04-12, table rows: 44\n",
      "current date: 2020-04-13, table rows: 44\n",
      "current date: 2020-04-14, table rows: 44\n",
      "current date: 2020-04-15, table rows: 44\n",
      "current date: 2020-04-16, table rows: 44\n",
      "current date: 2020-04-17, table rows: 44\n",
      "current date: 2020-04-18, table rows: 44\n",
      "current date: 2020-04-19, table rows: 44\n",
      "current date: 2020-04-20, table rows: 44\n",
      "current date: 2020-04-21, table rows: 44\n",
      "current date: 2020-04-22, table rows: 44\n",
      "current date: 2020-04-23, table rows: 45\n",
      "current date: 2020-04-24, table rows: 45\n",
      "current date: 2020-04-25, table rows: 45\n",
      "current date: 2020-04-26, table rows: 45\n",
      "current date: 2020-04-27, table rows: 45\n"
     ]
    },
    {
     "name": "stderr",
     "output_type": "stream",
     "text": [
      "Traceback (most recent call last):\n",
      "  File \"covid-19-official-data-ro.py\", line 130, in <module>\n",
      "    main()\n",
      "  File \"covid-19-official-data-ro.py\", line 125, in main\n",
      "    all_data_df, country_data_df = data_cleaning(all_data_df, country_data_df)\n",
      "  File \"covid-19-official-data-ro.py\", line 105, in data_cleaning\n",
      "    country_data_df[feature] = country_data_df[feature].astype(int)\n",
      "  File \"C:\\ProgramData\\Anaconda3\\lib\\site-packages\\pandas\\core\\generic.py\", line 5882, in astype\n",
      "    dtype=dtype, copy=copy, errors=errors, **kwargs\n",
      "  File \"C:\\ProgramData\\Anaconda3\\lib\\site-packages\\pandas\\core\\internals\\managers.py\", line 581, in astype\n",
      "    return self.apply(\"astype\", dtype=dtype, **kwargs)\n",
      "  File \"C:\\ProgramData\\Anaconda3\\lib\\site-packages\\pandas\\core\\internals\\managers.py\", line 438, in apply\n",
      "    applied = getattr(b, f)(**kwargs)\n",
      "  File \"C:\\ProgramData\\Anaconda3\\lib\\site-packages\\pandas\\core\\internals\\blocks.py\", line 559, in astype\n",
      "    return self._astype(dtype, copy=copy, errors=errors, values=values, **kwargs)\n",
      "  File \"C:\\ProgramData\\Anaconda3\\lib\\site-packages\\pandas\\core\\internals\\blocks.py\", line 643, in _astype\n",
      "    values = astype_nansafe(vals1d, dtype, copy=True, **kwargs)\n",
      "  File \"C:\\ProgramData\\Anaconda3\\lib\\site-packages\\pandas\\core\\dtypes\\cast.py\", line 707, in astype_nansafe\n",
      "    return lib.astype_intsafe(arr.ravel(), dtype).reshape(arr.shape)\n",
      "  File \"pandas\\_libs\\lib.pyx\", line 547, in pandas._libs.lib.astype_intsafe\n",
      "ValueError: invalid literal for int() with base 10: 'None'\n"
     ]
    }
   ],
   "source": [
    "!python covid-19-official-data-ro.py"
   ]
  },
  {
   "cell_type": "code",
   "execution_count": null,
   "metadata": {},
   "outputs": [],
   "source": []
  }
 ],
 "metadata": {
  "kernelspec": {
   "display_name": "Python 3",
   "language": "python",
   "name": "python3"
  },
  "language_info": {
   "codemirror_mode": {
    "name": "ipython",
    "version": 3
   },
   "file_extension": ".py",
   "mimetype": "text/x-python",
   "name": "python",
   "nbconvert_exporter": "python",
   "pygments_lexer": "ipython3",
   "version": "3.7.4"
  }
 },
 "nbformat": 4,
 "nbformat_minor": 2
}
